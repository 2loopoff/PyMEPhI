{
  "nbformat": 4,
  "nbformat_minor": 0,
  "metadata": {
    "colab": {
      "name": "NRNU_Python_Tests.ipynb",
      "provenance": [],
      "collapsed_sections": [],
      "authorship_tag": "ABX9TyPCmYwhZIU7ovbulXXCYC12",
      "include_colab_link": true
    },
    "kernelspec": {
      "name": "python3",
      "display_name": "Python 3"
    }
  },
  "cells": [
    {
      "cell_type": "markdown",
      "metadata": {
        "id": "view-in-github",
        "colab_type": "text"
      },
      "source": [
        "<a href=\"https://colab.research.google.com/github/2loopoff/PyMEPhI/blob/main/NRNU_Python_Tests.ipynb\" target=\"_parent\"><img src=\"https://colab.research.google.com/assets/colab-badge.svg\" alt=\"Open In Colab\"/></a>"
      ]
    },
    {
      "cell_type": "markdown",
      "metadata": {
        "id": "8xk36M1vQ8jt"
      },
      "source": [
        "# Шаблоны тестов"
      ]
    },
    {
      "cell_type": "code",
      "metadata": {
        "id": "LcKHY1YJRRsX"
      },
      "source": [
        "def f(a, b, c):\n",
        "    if not(a==a) or a%c==a or a==b:\n",
        "        if a//b!=a or b!=c:\n",
        "            d = 1\n",
        "        else:\n",
        "            d = 2\n",
        "    elif b<=a and a>=a or c<=b//a:\n",
        "        d = 3 if c<=b and False or a//b<=b else 4\n",
        "    else:\n",
        "        d = 5\n",
        "    return d\n",
        "\n",
        "def f(a, b, c):\n",
        "    if a//b<=c and c==b//a:\n",
        "        if not(False or a==c):\n",
        "            d = 1\n",
        "        else:\n",
        "            d = 2\n",
        "    elif a==a//c and c<=b:\n",
        "        d = 3 if (c<=a or b<=c) and c!=c else 4\n",
        "    else:\n",
        "        d = 5\n",
        "    return d"
      ],
      "execution_count": 6,
      "outputs": []
    },
    {
      "cell_type": "code",
      "metadata": {
        "id": "yf8gGEYhRpgS",
        "outputId": "d0c2ece5-739d-495a-e09f-9a2474b772b3",
        "colab": {
          "base_uri": "https://localhost:8080/",
          "height": 34
        }
      },
      "source": [
        "f(6,2,2)\n",
        "f(3,9,3)"
      ],
      "execution_count": 7,
      "outputs": [
        {
          "output_type": "execute_result",
          "data": {
            "text/plain": [
              "2"
            ]
          },
          "metadata": {
            "tags": []
          },
          "execution_count": 7
        }
      ]
    },
    {
      "cell_type": "code",
      "metadata": {
        "id": "XU8RS_fJRxWA",
        "outputId": "ce5d3d8c-d9a3-4c7e-f724-c0049bec0082",
        "colab": {
          "base_uri": "https://localhost:8080/",
          "height": 34
        }
      },
      "source": [
        "lst = [9, 8, 7, 6, 5, 4, 3, 2, 1, 0]\n",
        "lst[2:3] = [9, 7, 5, 3, 1]\n",
        "print(lst[1::-2])"
      ],
      "execution_count": 10,
      "outputs": [
        {
          "output_type": "stream",
          "text": [
            "[8]\n"
          ],
          "name": "stdout"
        }
      ]
    },
    {
      "cell_type": "code",
      "metadata": {
        "id": "cLHovgBoR8DG",
        "outputId": "d58ac03b-e787-49a8-b87d-56e2785231c0",
        "colab": {
          "base_uri": "https://localhost:8080/",
          "height": 34
        }
      },
      "source": [
        "s = 0\n",
        "for k in range(4, 15, 2):\n",
        "    s += k\n",
        "s"
      ],
      "execution_count": 9,
      "outputs": [
        {
          "output_type": "execute_result",
          "data": {
            "text/plain": [
              "54"
            ]
          },
          "metadata": {
            "tags": []
          },
          "execution_count": 9
        }
      ]
    },
    {
      "cell_type": "code",
      "metadata": {
        "id": "RsW9KmKASUQu",
        "outputId": "bc68b0be-c268-4434-ddc8-84161e827874",
        "colab": {
          "base_uri": "https://localhost:8080/",
          "height": 54
        }
      },
      "source": [
        "print(\"01234567\"[2] + \"ABCDEFGH\"[1:-2] + \"hgfedcba\"[:2:])\n",
        "\"76543210\"[1::-1]\n",
        "\"abcdefgh\"[1::]"
      ],
      "execution_count": 12,
      "outputs": [
        {
          "output_type": "stream",
          "text": [
            "2BCDEFhg\n"
          ],
          "name": "stdout"
        },
        {
          "output_type": "execute_result",
          "data": {
            "application/vnd.google.colaboratory.intrinsic+json": {
              "type": "string"
            },
            "text/plain": [
              "'bcdefgh'"
            ]
          },
          "metadata": {
            "tags": []
          },
          "execution_count": 12
        }
      ]
    }
  ]
}