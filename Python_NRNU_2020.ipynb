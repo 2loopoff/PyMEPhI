{
  "nbformat": 4,
  "nbformat_minor": 0,
  "metadata": {
    "colab": {
      "name": "Python NRNU 2020.ipynb",
      "provenance": [],
      "collapsed_sections": [],
      "toc_visible": true,
      "authorship_tag": "ABX9TyPSPvuAJD6SiHkcV3Dtb7NJ",
      "include_colab_link": true
    },
    "kernelspec": {
      "display_name": "Python 3",
      "name": "python3"
    }
  },
  "cells": [
    {
      "cell_type": "markdown",
      "metadata": {
        "id": "view-in-github",
        "colab_type": "text"
      },
      "source": [
        "<a href=\"https://colab.research.google.com/github/2loopoff/PyMEPhI/blob/main/Python_NRNU_2020.ipynb\" target=\"_parent\"><img src=\"https://colab.research.google.com/assets/colab-badge.svg\" alt=\"Open In Colab\"/></a>"
      ]
    },
    {
      "cell_type": "markdown",
      "metadata": {
        "id": "S1xf6XllN9kl"
      },
      "source": [
        "# 4-я неделя\n",
        "**Создайте файл с именем myfile.py, содержащий определение на языке Python двух функций с именами f и g, обладающих нижеперечисленными свойствами. Эти функции не должны ничего выводить (печатать) и вводить (читать). Кроме того, подключение файла командой from myfile import f,g также не должно приводить к попыткам ввода или вывода чего-либо.**\n",
        "\n",
        "**Задание 1.** Функция f(x,y) должна быть способна принять два аргумента типа float, являющиеся координатами некоторой точки M(x,y) на плоскости. Она обязана возвратить True в случае принадлежности этой точки пересечению множеств A и B, и False в противном случае. Множество A представляет собой открытый прямоугольник (исключая границу) со сторонами, параллельными осям координат, двумя противополжными вершинами которого являются точки \n",
        "(5,−5) и (−6,−4), a множество B — это граница кольца с центром в точке (2,−2) и диаметрами ограничивающих его окружностей \n",
        "4 и 12.\n",
        "\n",
        "**Задание 2.** Функция g(a,b,c) должна быть способна принять три аргумента типа int и возвратить строку (объект типа str) — мощность множества действительных решений уравнения: \n",
        "$$(cx+6)(b^2 x^2+2abx+(a^2−9))=0$$\n",
        "В функции g не разрешается использовать списки (lists), кортежи (tuples), множества (sets) и словари (dicts), а также подключать какие-либо библиотеки.\n",
        "\n",
        "Тесты, иллюстрирующие правильность написанных функций, не требуются."
      ]
    },
    {
      "cell_type": "code",
      "metadata": {
        "id": "HyF-e4frP5Oh"
      },
      "source": [
        "def f(*argums):\n",
        "  P1 = (5,-5)\n",
        "  P2 = (-6,-4)\n",
        "  CP = (2,-2)\n",
        "  R1,R2 = 4, 12\n",
        "  _ACC = 1e-03 #Accuracy\n",
        "  if len(argums) < 2:  #length check (low)\n",
        "    # print('Not enough arguments!')\n",
        "    return False\n",
        "    # print(argums)\n",
        "\n",
        "  if len(argums) > 2:  #length check\n",
        "    # print('More than 2 points in input. Slice [:2] will be used...')\n",
        "    argums = argums[:2]\n",
        "    # print(argums)\n",
        "\n",
        "  tfl = 0 #bad type flag\n",
        "  for _elem in argums: #type check\n",
        "    if type(_elem) != float:\n",
        "      tfl = 1\n",
        "  if tfl:\n",
        "    # print(\"Some points isn't float. Trying to convert it to float...\")\n",
        "    try:\n",
        "      argums = tuple([float(x) for x in argums])\n",
        "      # print('Convert completed!')\n",
        "    except:\n",
        "      # print(\"Couldn't convert points to float type, exit...\")\n",
        "      return False\n",
        "\n",
        "  x, y = argums[0], argums[1]\n",
        "  if (    x < max(P1[0],P2[0])\n",
        "      and x > min(P1[0],P2[0]) \n",
        "      and y > min(P1[1],P2[1]) \n",
        "      and y < max(P1[1],P2[1])\n",
        "      and ( abs((x-CP[0])**2 + (y-CP[1])**2 - min(R1,R2)**2) < _ACC or abs((x-CP[0])**2 + (y-CP[1])**2 - max(R1,R2)**2) < _ACC)):\n",
        "    # print((x-CP[0])**2 + (y-CP[1])**2 - min(R1,R2)**2)\n",
        "    # print((x-CP[0])**2 + (y-CP[1])**2 - max(R1,R2)**2)\n",
        "    return True\n",
        "  else:\n",
        "    return False"
      ],
      "execution_count": null,
      "outputs": []
    },
    {
      "cell_type": "markdown",
      "metadata": {
        "id": "YVRY0Y2HuJVV"
      },
      "source": [
        "Преобразуем исходное уравнение:\n",
        "$$(cx+6)(b^2 x^2+2abx+(a^2−9))=0$$ \n",
        "$$(cx+6)\\left[(bx+a)^2−3^2\\right]=0$$ \n",
        "\n",
        "Таким образом, приходим к трем независимым условиям. \n",
        "Мощность множества решений зависит от этих двух случаев независимо.\n",
        "\n",
        "Осталось учесть совпадение корней, которое происходит при выполнении условия:\n",
        "$$  -\\frac{6}{c} = \\frac{\\pm 3-a}{b} $$ \n",
        "Или, в более благоприятном для больших числе виде:\n",
        "$$ 6b = (a\\pm 3)c $$ "
      ]
    },
    {
      "cell_type": "code",
      "metadata": {
        "id": "DuQ1kRjuQEUc"
      },
      "source": [
        "def g(a,b,c):\n",
        "  # result = \"Cardinality hasn't been calculated\" \n",
        "  fl1,fl23 = 0,0\n",
        "  try:\n",
        "    a = int(a); b = int(b); c = int(c);\n",
        "    # print('Convert completed!')\n",
        "  except:\n",
        "    # print(\"Couldn't convert one point to int type, exit...\")\n",
        "    # return \"ERROR: Couldn't convert points to int type, exit...\"\n",
        "    return 'Не могу конвертировать a,b,c к типу <int>...'\n",
        "\n",
        "  if c==0 : \n",
        "    fl1 = 0\n",
        "  else:\n",
        "    fl1 = 1\n",
        "\n",
        "  if b == 0:\n",
        "    if a == 3 or a == -3: \n",
        "      return 'continuum'\n",
        "    else:\n",
        "      fl23 = 0\n",
        "  else:\n",
        "    fl23 = 2\n",
        "    if 6*b == (a+3)*c or 6*b == (a-3)*c: fl23 -= 1\n",
        "\n",
        "  return str(fl1+fl23)"
      ],
      "execution_count": null,
      "outputs": []
    },
    {
      "cell_type": "markdown",
      "metadata": {
        "id": "dcl2wUgpQw2l"
      },
      "source": [
        "Протестируем написанные функции:"
      ]
    },
    {
      "cell_type": "code",
      "metadata": {
        "id": "ai23wv7iQvc2",
        "outputId": "68c19464-c233-45de-a7a9-d5bb3164c862",
        "colab": {
          "base_uri": "https://localhost:8080/",
          "height": 125
        }
      },
      "source": [
        "print(f(-1.1,-4.528))\n",
        "print(f(-5.9,-4.9))\n",
        "print(f('1e10000'))\n",
        "print(f(1e10000))"
      ],
      "execution_count": null,
      "outputs": [
        {
          "output_type": "stream",
          "text": [
            "True\n",
            "False\n",
            "False\n",
            "False\n"
          ],
          "name": "stdout"
        }
      ]
    },
    {
      "cell_type": "code",
      "metadata": {
        "id": "ywPy-68sp9zY",
        "outputId": "6839203e-c76c-4bdc-bae1-3d5aafab2d27",
        "colab": {
          "base_uri": "https://localhost:8080/",
          "height": 173
        }
      },
      "source": [
        "a=12;b=-60;c=24\n",
        "#Officially asserts\n",
        "assert g(14,-50,0) == \"2\"\n",
        "assert g(12,-60,-24) == \"2\"\n",
        "assert g(10000000000000000000000000000000000000000000000000000000000000000000000000000000000000000000000000000000000000000000000000000000000000000000000000000000000000000000000000000000000000000000000000000000000000000000000000000000000000000000000000000000000000000000000000000000000000000000000000000000000000000000000000000000000000000000000000000000000000000000000000000000000000000000000000000000000000000000000000000000000000000000000000000000000000000000000000000000000000000000000000000000000000000000000000000000000000000000000000000000000000000000000000000000000000000000000000000000000000000000000000000000000000000000000000000000000000000000000000000000000000000000000000000000000000000000000000000000000000000000000000000000000000000000000000000000000000000000000000000000000000000000000000000000000000000000000000000000000000000000000000000000000000000000000000000000000000000000000000000000000000000000000000000000000000000000000000000000000000000000000000000000000000000000000000000000000000000,0,0) == \"0\"\n",
        "assert g(-3,0,-19) == \"continuum\"\n",
        "\n",
        "print('Officially asserts completed!')\n",
        "print('My tests')\n",
        "print(g(1,2,3))\n",
        "print(g(1,2,0))\n",
        "print(g(3,0,0))\n",
        "print(g(3,1e10000,0))\n",
        "print(g(3,'lol',0))"
      ],
      "execution_count": null,
      "outputs": [
        {
          "output_type": "stream",
          "text": [
            "Officially asserts completed!\n",
            "My tests\n",
            "2\n",
            "2\n",
            "continuum\n",
            "Не могу конвертировать a,b,c к типу <int>...\n",
            "Не могу конвертировать a,b,c к типу <int>...\n"
          ],
          "name": "stdout"
        }
      ]
    },
    {
      "cell_type": "markdown",
      "metadata": {
        "id": "jekLPGFnguaf"
      },
      "source": [
        "# Cрезы (slices), Массивы (lists)"
      ]
    },
    {
      "cell_type": "markdown",
      "metadata": {
        "id": "wAPMMuHGh2su"
      },
      "source": [
        "Чекайте примеры, господа офицеры"
      ]
    },
    {
      "cell_type": "code",
      "metadata": {
        "id": "obKYbihcTumx",
        "outputId": "5728d4c4-9c1e-454c-de2f-c870bc463130",
        "colab": {
          "base_uri": "https://localhost:8080/",
          "height": 146
        }
      },
      "source": [
        "start = 0\n",
        "stop = 3 #Не включает правую границу\n",
        "step = 2\n",
        "\n",
        "Names = [\"Sasha\",\"Masha\",\"Dasha\",'SunYa','LOH']\n",
        "a = [_elem for _elem in range(10)]\n",
        "print(a)\n",
        "print(a[0:4:1])\n",
        "print(a[0:4:2])\n",
        "print(a[start:stop:step])\n"
      ],
      "execution_count": null,
      "outputs": [
        {
          "output_type": "stream",
          "text": [
            "[0, 1, 2, 3, 4, 5, 6, 7, 8, 9]\n",
            "[0, 1, 2, 3]\n",
            "[0, 2]\n",
            "[0, 2]\n"
          ],
          "name": "stdout"
        }
      ]
    },
    {
      "cell_type": "code",
      "metadata": {
        "id": "qiqp29knbAQJ"
      },
      "source": [
        "start = 0\n",
        "stop = 3 #Не включает правую границу!!\n",
        "step = 2"
      ],
      "execution_count": null,
      "outputs": []
    },
    {
      "cell_type": "code",
      "metadata": {
        "id": "_rF8B9R_UujM",
        "outputId": "6382c60a-7954-41be-8098-5aed5580a207",
        "colab": {
          "base_uri": "https://localhost:8080/",
          "height": 140
        }
      },
      "source": [
        "for val,_name in enumerate(Names):\n",
        "  print(_name,'твой номер',val)"
      ],
      "execution_count": null,
      "outputs": [
        {
          "output_type": "stream",
          "text": [
            "Sasha твой номер 0\n",
            "Masha твой номер 1\n",
            "Dasha твой номер 2\n",
            "SunYa твой номер 3\n",
            "LOH твой номер 4\n"
          ],
          "name": "stdout"
        }
      ]
    },
    {
      "cell_type": "markdown",
      "metadata": {
        "id": "IKVhfOD1cV7b"
      },
      "source": [
        "Рекомен do you\n",
        "https://pythonworld.ru/numpy/100-exercises.html"
      ]
    },
    {
      "cell_type": "code",
      "metadata": {
        "id": "_A3ccl5nalDr"
      },
      "source": [
        ""
      ],
      "execution_count": null,
      "outputs": []
    },
    {
      "cell_type": "markdown",
      "metadata": {
        "id": "muKPQe4HSpop"
      },
      "source": [
        "# 6-я неделя"
      ]
    },
    {
      "cell_type": "markdown",
      "metadata": {
        "id": "Xyjg4q1USvCw"
      },
      "source": [
        "Создайте файл с именем myfile.py, содержащий определение на языке Python двух функций с именами h1 и h2, обладающих нижеперечисленными свойствами. Эти функции не должны ничего выводить (печатать) и вводить (читать). Кроме того, подключение файла командой from myfile import h1, h2 также не должно приводить к попыткам ввода или вывода чего-либо.\n",
        "\n",
        "**Задание 1.** Функция h1(list) должна быть способна принять в качестве аргумента список list целых чисел и возвратить количество минимальных среди остатков от деления на 8 элементов первой половины списка (исключая центральный элемент при нечётной длине списка).\n",
        "\n",
        "**Задание 2.** Функция h2(list) должна быть способна принять в качестве аргумента список list целых чисел и возвратить целую часть среднего арифметического округлённых до десятков чётных элементов списка. В случае отсутствия указанных элементов функция должна вернуть None.\n",
        "\n",
        "\n",
        "Не разрешается использование встроенных функций min(), max(), sum(), sorted(), list(), dict() и set()."
      ]
    },
    {
      "cell_type": "code",
      "metadata": {
        "id": "--j4rFClStwh"
      },
      "source": [
        "import math\n",
        "\n",
        "def h1(values):\n",
        "  values = values[:len(values)//2]\n",
        "  b_min = math.inf\n",
        "  amount = 0\n",
        "  for _val in values:\n",
        "    try:\n",
        "      int(_val)\n",
        "    except:\n",
        "      # print(\"'Couldn't convert init values to <int>!!\")\n",
        "      return None\n",
        "\n",
        "    _val = _val % 8\n",
        "    if _val < b_min: \n",
        "      b_min = _val\n",
        "      amount = 1\n",
        "    elif _val == b_min:\n",
        "      amount+=1\n",
        "  # print('min:',bias_min)\n",
        "  return amount\n"
      ],
      "execution_count": null,
      "outputs": []
    },
    {
      "cell_type": "markdown",
      "metadata": {
        "id": "pFrivnEU4Tyg"
      },
      "source": [
        "Протестируем написанную функцию"
      ]
    },
    {
      "cell_type": "code",
      "metadata": {
        "id": "pQNi3eFrT4CT",
        "outputId": "6a8f301e-0b6f-4288-f242-1cbc79e70eb4",
        "colab": {
          "base_uri": "https://localhost:8080/",
          "height": 74
        }
      },
      "source": [
        "dummy_values = [[1,2,3,4,5,6,7,8,9], [16,8,8,8,8], \n",
        "                [8,8,9,9,9], [9,9,9,9,0,-8,-8],['loh','pidor'],[] ]\n",
        "dummy_answers= [1,2,2,3,None,0]\n",
        "\n",
        "for i,val in enumerate(dummy_values):\n",
        "  assert h1(val) == dummy_answers[i]\n",
        "  # print ('assert',i,'completed')\n",
        "print ('Asserts completed!')"
      ],
      "execution_count": null,
      "outputs": [
        {
          "output_type": "stream",
          "text": [
            "Asserts completed!\n"
          ],
          "name": "stdout"
        }
      ]
    },
    {
      "cell_type": "code",
      "metadata": {
        "id": "WpEFSzMmad5w"
      },
      "source": [
        "import math\n",
        "import numpy as np\n",
        "\n",
        "def h2(values):\n",
        "  if len(values)<=0: return None\n",
        "\n",
        "  for _val in values:\n",
        "    try:\n",
        "      int(_val)\n",
        "    except:\n",
        "      # print('NONONO!')\n",
        "      return None\n",
        "\n",
        "  values = np.array(values);  values = values[values%2==0]\n",
        "  if len(values)<=0: return None\n",
        "  return math.floor(np.mean(np.array([round(val,-1) for val in values])))"
      ],
      "execution_count": null,
      "outputs": []
    },
    {
      "cell_type": "markdown",
      "metadata": {
        "id": "9XjtW1X74OKl"
      },
      "source": [
        "Протестируем написанную функцию"
      ]
    },
    {
      "cell_type": "code",
      "metadata": {
        "id": "HJDKDhrRK5Wm",
        "outputId": "96bf2bff-dc4e-4e4c-a1e6-ffaec04a3155",
        "colab": {
          "base_uri": "https://localhost:8080/",
          "height": 92
        }
      },
      "source": [
        "dummy_values = [[14,27,38,49,56], \n",
        "                [-100,1,100,3], [35],['loh','pidor'],[] ]\n",
        "dummy_answers= [36,0,None,None,None]\n",
        "\n",
        "for i,val in enumerate(dummy_values):\n",
        "  # print('h2 = ',h2(val))\n",
        "  assert h2(val) == dummy_answers[i]\n",
        "  # print ('assert',i,'completed')\n",
        "print ('My Asserts completed!')\n",
        "\n",
        "assert h2([-54, -76, -16, 1000000000000000000000000000000000000000000000000000000000000000000000000000000000000000000000000000000000000000000000000000000000000000000000000000000000000000031, 999999999999999999999999999999999999999999999999999999999999999999999999999999999999999999999999999999999999999999999999999999999999999999999999999999999999999951, 20]) == -33\n",
        "assert h2([98, -37, -59, 47]) == 100\n",
        "\n",
        "print ('Asserts completed! Great job!')"
      ],
      "execution_count": null,
      "outputs": [
        {
          "output_type": "stream",
          "text": [
            "My Asserts completed!\n",
            "Asserts completed! Great job!\n"
          ],
          "name": "stdout"
        }
      ]
    },
    {
      "cell_type": "code",
      "metadata": {
        "id": "HFwjbwPN1Ggw",
        "outputId": "e187b4a7-f96d-4577-823f-7d4fd59d7fc5",
        "colab": {
          "base_uri": "https://localhost:8080/",
          "height": 54
        }
      },
      "source": [
        "print(h2([-54, -76, -16, 1000000000000000000000000000000000000000000000000000000000000000000000000000000000000000000000000000000000000000000000000000000000000000000000000000000000000000031, 999999999999999999999999999999999999999999999999999999999999999999999999999999999999999999999999999999999999999999999999999999999999999999999999999999999999999951, 20]))"
      ],
      "execution_count": null,
      "outputs": [
        {
          "output_type": "stream",
          "text": [
            "-33\n"
          ],
          "name": "stdout"
        }
      ]
    },
    {
      "cell_type": "code",
      "metadata": {
        "id": "8nJsEfVa6SnC"
      },
      "source": [
        "values = [1,2,-30,34,34,52,66,74,56,14];print(values)\n",
        "values = np.array(values);print(values)\n",
        "values = values[values%2==0];print(values)\n",
        "values = np.array([round(val,-1) for val in values);print(values)"
      ],
      "execution_count": null,
      "outputs": []
    }
  ]
}