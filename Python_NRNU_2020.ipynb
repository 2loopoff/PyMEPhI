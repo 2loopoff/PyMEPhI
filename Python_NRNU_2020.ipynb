{
  "nbformat": 4,
  "nbformat_minor": 0,
  "metadata": {
    "colab": {
      "name": "Python NRNU 2020.ipynb",
      "provenance": [],
      "collapsed_sections": [],
      "toc_visible": true,
      "authorship_tag": "ABX9TyPKuAHhcO8E68OsJnjPosmM",
      "include_colab_link": true
    },
    "kernelspec": {
      "name": "python3",
      "display_name": "Python 3"
    }
  },
  "cells": [
    {
      "cell_type": "markdown",
      "metadata": {
        "id": "view-in-github",
        "colab_type": "text"
      },
      "source": [
        "<a href=\"https://colab.research.google.com/github/2loopoff/PyMEPhI/blob/main/Python_NRNU_2020.ipynb\" target=\"_parent\"><img src=\"https://colab.research.google.com/assets/colab-badge.svg\" alt=\"Open In Colab\"/></a>"
      ]
    },
    {
      "cell_type": "markdown",
      "metadata": {
        "id": "S1xf6XllN9kl"
      },
      "source": [
        "# 4-я неделя\n",
        "**Создайте файл с именем myfile.py, содержащий определение на языке Python двух функций с именами f и g, обладающих нижеперечисленными свойствами. Эти функции не должны ничего выводить (печатать) и вводить (читать). Кроме того, подключение файла командой from myfile import f,g также не должно приводить к попыткам ввода или вывода чего-либо.**\n",
        "\n",
        "**Задание 1.** Функция f(x,y) должна быть способна принять два аргумента типа float, являющиеся координатами некоторой точки M(x,y) на плоскости. Она обязана возвратить True в случае принадлежности этой точки пересечению множеств A и B, и False в противном случае. Множество A представляет собой открытый прямоугольник (исключая границу) со сторонами, параллельными осям координат, двумя противополжными вершинами которого являются точки \n",
        "(5,−5) и (−6,−4), a множество B — это граница кольца с центром в точке (2,−2) и диаметрами ограничивающих его окружностей \n",
        "4 и 12.\n",
        "\n",
        "**Задание 2.** Функция g(a,b,c) должна быть способна принять три аргумента типа int и возвратить строку (объект типа str) — мощность множества действительных решений уравнения: \n",
        "$$(cx+6)(b^2 x^2+2abx+(a^2−9))=0$$\n",
        "В функции g не разрешается использовать списки (lists), кортежи (tuples), множества (sets) и словари (dicts), а также подключать какие-либо библиотеки.\n",
        "\n",
        "Тесты, иллюстрирующие правильность написанных функций, не требуются."
      ]
    },
    {
      "cell_type": "code",
      "metadata": {
        "id": "HyF-e4frP5Oh"
      },
      "source": [
        "def f(*argums):\n",
        "  P1 = (5,-5)\n",
        "  P2 = (-6,-4)\n",
        "  CP = (2,-2)\n",
        "  R1,R2 = 4, 12\n",
        "  _ACC = 1e-03 #Accuracy\n",
        "  if len(argums) < 2:  #length check (low)\n",
        "    # print('Not enough arguments!')\n",
        "    return False\n",
        "    # print(argums)\n",
        "\n",
        "  if len(argums) > 2:  #length check\n",
        "    # print('More than 2 points in input. Slice [:2] will be used...')\n",
        "    argums = argums[:2]\n",
        "    # print(argums)\n",
        "\n",
        "  tfl = 0 #bad type flag\n",
        "  for _elem in argums: #type check\n",
        "    if type(_elem) != float:\n",
        "      tfl = 1\n",
        "  if tfl:\n",
        "    # print(\"Some points isn't float. Trying to convert it to float...\")\n",
        "    try:\n",
        "      argums = tuple([float(x) for x in argums])\n",
        "      # print('Convert completed!')\n",
        "    except:\n",
        "      # print(\"Couldn't convert points to float type, exit...\")\n",
        "      return False\n",
        "\n",
        "  x, y = argums[0], argums[1]\n",
        "  if (    x < max(P1[0],P2[0])\n",
        "      and x > min(P1[0],P2[0]) \n",
        "      and y > min(P1[1],P2[1]) \n",
        "      and y < max(P1[1],P2[1])\n",
        "      and ( abs((x-CP[0])**2 + (y-CP[1])**2 - min(R1,R2)**2) < _ACC or abs((x-CP[0])**2 + (y-CP[1])**2 - max(R1,R2)**2) < _ACC)):\n",
        "    # print((x-CP[0])**2 + (y-CP[1])**2 - min(R1,R2)**2)\n",
        "    # print((x-CP[0])**2 + (y-CP[1])**2 - max(R1,R2)**2)\n",
        "    return True\n",
        "  else:\n",
        "    return False"
      ],
      "execution_count": 1,
      "outputs": []
    },
    {
      "cell_type": "markdown",
      "metadata": {
        "id": "YVRY0Y2HuJVV"
      },
      "source": [
        "Преобразуем исходное уравнение:\n",
        "$$(cx+6)(b^2 x^2+2abx+(a^2−9))=0$$ \n",
        "$$(cx+6)\\left[(bx+a)^2−3^2\\right]=0$$ \n",
        "$$(cx+6)(bx+a−3)(bx+a+3)=0$$ \n",
        "\n",
        "Таким образом, приходим к трем независимым условиям: \n",
        "cx= -6 или bx+a = 3 или bx+a = -3. \n",
        "Мощность множества решений зависит от этих трех случаев независимо."
      ]
    },
    {
      "cell_type": "code",
      "metadata": {
        "id": "DuQ1kRjuQEUc"
      },
      "source": [
        "def g(a,b,c):\n",
        "  # result = \"Cardinality hasn't been calculated\" \n",
        "  fl1,fl23 = 0,0\n",
        "  try:\n",
        "    a = int(a); b = int(b); c = int(c);\n",
        "    # print('Convert completed!')\n",
        "  except:\n",
        "    # print(\"Couldn't convert one point to int type, exit...\")\n",
        "    # return \"ERROR: Couldn't convert points to int type, exit...\"\n",
        "    return 'Не могу конвертировать a,b,c к типу <int>...'\n",
        "\n",
        "  if c==0 : \n",
        "    fl1 = 0\n",
        "  else:\n",
        "    fl1 = 1\n",
        "\n",
        "  if b == 0:\n",
        "    if a == 3 or a == -3: \n",
        "      return 'Множество бесконечное'\n",
        "  else:\n",
        "    fl23 = 1\n",
        "\n",
        "  return str(fl1+fl23)"
      ],
      "execution_count": 2,
      "outputs": []
    },
    {
      "cell_type": "markdown",
      "metadata": {
        "id": "dcl2wUgpQw2l"
      },
      "source": [
        "Протестируем написанные функции:"
      ]
    },
    {
      "cell_type": "code",
      "metadata": {
        "id": "ai23wv7iQvc2",
        "outputId": "475a7925-08a9-4f46-b56f-885de963b9e3",
        "colab": {
          "base_uri": "https://localhost:8080/",
          "height": 85
        }
      },
      "source": [
        "print(f(-1.1,-4.528) )\n",
        "print(f(-5.9,-4.9) )\n",
        "print(f('1e10000'))\n",
        "print(f(1e10000))"
      ],
      "execution_count": 3,
      "outputs": [
        {
          "output_type": "stream",
          "text": [
            "True\n",
            "False\n",
            "False\n",
            "False\n"
          ],
          "name": "stdout"
        }
      ]
    },
    {
      "cell_type": "code",
      "metadata": {
        "id": "ywPy-68sp9zY",
        "outputId": "9537e801-b76d-4bd6-9c69-bc202326cf79",
        "colab": {
          "base_uri": "https://localhost:8080/",
          "height": 136
        }
      },
      "source": [
        "a=12;b=-60;c=24\n",
        "print()\n",
        "print(g(a,b,c))\n",
        "\n",
        "print(g(1,2,3))\n",
        "print(g(1,2,0))\n",
        "print(g(3,0,0))\n",
        "print(g(3,1e10000,0))\n",
        "print(g(3,'lol',0))"
      ],
      "execution_count": 4,
      "outputs": [
        {
          "output_type": "stream",
          "text": [
            "\n",
            "2\n",
            "2\n",
            "1\n",
            "Множество бесконечное\n",
            "Не могу конвертировать a,b,c к типу <int>...\n",
            "Не могу конвертировать a,b,c к типу <int>...\n"
          ],
          "name": "stdout"
        }
      ]
    },
    {
      "cell_type": "markdown",
      "metadata": {
        "id": "jekLPGFnguaf"
      },
      "source": [
        "# n-я неделя"
      ]
    },
    {
      "cell_type": "markdown",
      "metadata": {
        "id": "wAPMMuHGh2su"
      },
      "source": [
        "...Coming soon"
      ]
    }
  ]
}